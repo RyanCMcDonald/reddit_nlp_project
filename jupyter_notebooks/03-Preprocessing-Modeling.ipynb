{
 "cells": [
  {
   "cell_type": "markdown",
   "metadata": {},
   "source": [
    "# <span style=\"color:Purple\">Project 3 :  Web APIs & NLP</span> <img src=\"../resources/reddit_logo.png\" width=\"110\" height=\"110\" />\n",
    "---\n",
    "## <span style=\"color:Orange\">Preprocessing - Modeling</span>      \n",
    "\n",
    "#### Ryan McDonald"
   ]
  },
  {
   "cell_type": "markdown",
   "metadata": {},
   "source": [
    "### Notebook Contents:\n",
    "\n",
    "- [Reading the Data](#intro)\n",
    "- [Overview of Count Vectorizer](#overview)\n",
    "- [Modeling](#modeling)\n",
    "    - [Production Model](#prod)\n",
    "        - [Extended Analysis](#analysis)\n",
    "    - [Model #2](#2)\n",
    "    - [Model #3](#3)\n",
    "    - [Model #4](#4)\n",
    "    - [Model #5](#5)\n",
    "    - [Model #6](#6)\n"
   ]
  },
  {
   "cell_type": "markdown",
   "metadata": {},
   "source": [
    "\n",
    "**Imports**"
   ]
  },
  {
   "cell_type": "code",
   "execution_count": 10,
   "metadata": {},
   "outputs": [],
   "source": [
    "# Baseline Imports\n",
    "import pandas as pd\n",
    "import numpy as np\n",
    "import matplotlib.pyplot as plt\n",
    "import pickle\n",
    "\n",
    "# Models!!!S\n",
    "from xgboost import XGBClassifier\n",
    "from sklearn.model_selection import train_test_split, GridSearchCV, cross_val_score\n",
    "from sklearn.pipeline import Pipeline\n",
    "from sklearn.naive_bayes import MultinomialNB, BernoulliNB\n",
    "from sklearn.linear_model import LogisticRegression, LogisticRegressionCV\n",
    "from sklearn.feature_extraction.text import CountVectorizer, TfidfVectorizer\n",
    "from sklearn.ensemble import RandomForestClassifier, ExtraTreesClassifier, AdaBoostClassifier\n",
    "from sklearn.tree import export_text, DecisionTreeClassifier, plot_tree\n",
    "from sklearn.svm import LinearSVC\n",
    "\n",
    "# Metrics!!!\n",
    "from sklearn.metrics import confusion_matrix, plot_confusion_matrix\n",
    "\n",
    "# GUI!!!\n",
    "import tkinter as tk\n",
    "from tkinter import simpledialog"
   ]
  },
  {
   "cell_type": "markdown",
   "metadata": {},
   "source": [
    "<a id='intro'></a>\n",
    "\n",
    "## 1. Read the Data"
   ]
  },
  {
   "cell_type": "code",
   "execution_count": 11,
   "metadata": {},
   "outputs": [
    {
     "data": {
      "text/html": [
       "<div>\n",
       "<style scoped>\n",
       "    .dataframe tbody tr th:only-of-type {\n",
       "        vertical-align: middle;\n",
       "    }\n",
       "\n",
       "    .dataframe tbody tr th {\n",
       "        vertical-align: top;\n",
       "    }\n",
       "\n",
       "    .dataframe thead th {\n",
       "        text-align: right;\n",
       "    }\n",
       "</style>\n",
       "<table border=\"1\" class=\"dataframe\">\n",
       "  <thead>\n",
       "    <tr style=\"text-align: right;\">\n",
       "      <th></th>\n",
       "      <th>subreddit</th>\n",
       "      <th>title</th>\n",
       "    </tr>\n",
       "  </thead>\n",
       "  <tbody>\n",
       "    <tr>\n",
       "      <th>0</th>\n",
       "      <td>VanLife</td>\n",
       "      <td>Treasure at the end of the rainbow. Gonzaga Ba...</td>\n",
       "    </tr>\n",
       "    <tr>\n",
       "      <th>1</th>\n",
       "      <td>VanLife</td>\n",
       "      <td>Boulder Colorado :)</td>\n",
       "    </tr>\n",
       "    <tr>\n",
       "      <th>2</th>\n",
       "      <td>VanLife</td>\n",
       "      <td>If you like YouTube Poop you're gonna love my ...</td>\n",
       "    </tr>\n",
       "    <tr>\n",
       "      <th>3</th>\n",
       "      <td>VanLife</td>\n",
       "      <td>Love the boondocking near Ventura on the coast</td>\n",
       "    </tr>\n",
       "    <tr>\n",
       "      <th>4</th>\n",
       "      <td>VanLife</td>\n",
       "      <td>What is this silver box? It's in a 1992 SMB</td>\n",
       "    </tr>\n",
       "    <tr>\n",
       "      <th>...</th>\n",
       "      <td>...</td>\n",
       "      <td>...</td>\n",
       "    </tr>\n",
       "    <tr>\n",
       "      <th>7995</th>\n",
       "      <td>camping</td>\n",
       "      <td>Website for camping?</td>\n",
       "    </tr>\n",
       "    <tr>\n",
       "      <th>7996</th>\n",
       "      <td>camping</td>\n",
       "      <td>Camping near Wild Willy's Hot Spring/eastern s...</td>\n",
       "    </tr>\n",
       "    <tr>\n",
       "      <th>7997</th>\n",
       "      <td>camping</td>\n",
       "      <td>Camping in the boundary waters</td>\n",
       "    </tr>\n",
       "    <tr>\n",
       "      <th>7998</th>\n",
       "      <td>camping</td>\n",
       "      <td>Favorite camping spot in El Dorado National Fo...</td>\n",
       "    </tr>\n",
       "    <tr>\n",
       "      <th>7999</th>\n",
       "      <td>camping</td>\n",
       "      <td>Last camp meal of the season was memorable to ...</td>\n",
       "    </tr>\n",
       "  </tbody>\n",
       "</table>\n",
       "<p>8000 rows × 2 columns</p>\n",
       "</div>"
      ],
      "text/plain": [
       "     subreddit                                              title\n",
       "0      VanLife  Treasure at the end of the rainbow. Gonzaga Ba...\n",
       "1      VanLife                                Boulder Colorado :)\n",
       "2      VanLife  If you like YouTube Poop you're gonna love my ...\n",
       "3      VanLife     Love the boondocking near Ventura on the coast\n",
       "4      VanLife        What is this silver box? It's in a 1992 SMB\n",
       "...        ...                                                ...\n",
       "7995   camping                               Website for camping?\n",
       "7996   camping  Camping near Wild Willy's Hot Spring/eastern s...\n",
       "7997   camping                     Camping in the boundary waters\n",
       "7998   camping  Favorite camping spot in El Dorado National Fo...\n",
       "7999   camping  Last camp meal of the season was memorable to ...\n",
       "\n",
       "[8000 rows x 2 columns]"
      ]
     },
     "execution_count": 11,
     "metadata": {},
     "output_type": "execute_result"
    }
   ],
   "source": [
    "#None-Tokenized DataFrame\n",
    "subs_notoken =pd.read_csv('../datasets/title_data')\n",
    "subs_notoken"
   ]
  },
  {
   "cell_type": "code",
   "execution_count": 12,
   "metadata": {},
   "outputs": [
    {
     "data": {
      "text/plain": [
       "'Considering the van life, should I sell my car and use my van as a daily driver?'"
      ]
     },
     "execution_count": 12,
     "metadata": {},
     "output_type": "execute_result"
    }
   ],
   "source": [
    "subs_notoken['title'][3999]"
   ]
  },
  {
   "cell_type": "code",
   "execution_count": 13,
   "metadata": {},
   "outputs": [
    {
     "data": {
      "text/html": [
       "<div>\n",
       "<style scoped>\n",
       "    .dataframe tbody tr th:only-of-type {\n",
       "        vertical-align: middle;\n",
       "    }\n",
       "\n",
       "    .dataframe tbody tr th {\n",
       "        vertical-align: top;\n",
       "    }\n",
       "\n",
       "    .dataframe thead th {\n",
       "        text-align: right;\n",
       "    }\n",
       "</style>\n",
       "<table border=\"1\" class=\"dataframe\">\n",
       "  <thead>\n",
       "    <tr style=\"text-align: right;\">\n",
       "      <th></th>\n",
       "      <th>subreddit</th>\n",
       "      <th>title</th>\n",
       "    </tr>\n",
       "  </thead>\n",
       "  <tbody>\n",
       "    <tr>\n",
       "      <th>0</th>\n",
       "      <td>camping</td>\n",
       "      <td>First tim camping Camping Tricks: A few of the...</td>\n",
       "    </tr>\n",
       "    <tr>\n",
       "      <th>1</th>\n",
       "      <td>camping</td>\n",
       "      <td>Last summer.</td>\n",
       "    </tr>\n",
       "    <tr>\n",
       "      <th>2</th>\n",
       "      <td>camping</td>\n",
       "      <td>We were playing war.</td>\n",
       "    </tr>\n",
       "    <tr>\n",
       "      <th>3</th>\n",
       "      <td>camping</td>\n",
       "      <td>I caught the moment the cards were read.</td>\n",
       "    </tr>\n",
       "    <tr>\n",
       "      <th>4</th>\n",
       "      <td>camping</td>\n",
       "      <td>Joshua Tree National Park back country!</td>\n",
       "    </tr>\n",
       "    <tr>\n",
       "      <th>...</th>\n",
       "      <td>...</td>\n",
       "      <td>...</td>\n",
       "    </tr>\n",
       "    <tr>\n",
       "      <th>6366</th>\n",
       "      <td>VanLife</td>\n",
       "      <td>I’m kinda new to this whole reddit thing!</td>\n",
       "    </tr>\n",
       "    <tr>\n",
       "      <th>6367</th>\n",
       "      <td>VanLife</td>\n",
       "      <td>But this is my 1994 VW 1.9D T4🤙🏻 Ford Econolin...</td>\n",
       "    </tr>\n",
       "    <tr>\n",
       "      <th>6368</th>\n",
       "      <td>VanLife</td>\n",
       "      <td>When camping in a national park, can you reser...</td>\n",
       "    </tr>\n",
       "    <tr>\n",
       "      <th>6369</th>\n",
       "      <td>VanLife</td>\n",
       "      <td>Thanks!</td>\n",
       "    </tr>\n",
       "    <tr>\n",
       "      <th>6370</th>\n",
       "      <td>VanLife</td>\n",
       "      <td>Considering the van life, should I sell my car...</td>\n",
       "    </tr>\n",
       "  </tbody>\n",
       "</table>\n",
       "<p>6371 rows × 2 columns</p>\n",
       "</div>"
      ],
      "text/plain": [
       "     subreddit                                              title\n",
       "0      camping  First tim camping Camping Tricks: A few of the...\n",
       "1      camping                                       Last summer.\n",
       "2      camping                               We were playing war.\n",
       "3      camping           I caught the moment the cards were read.\n",
       "4      camping            Joshua Tree National Park back country!\n",
       "...        ...                                                ...\n",
       "6366   VanLife          I’m kinda new to this whole reddit thing!\n",
       "6367   VanLife  But this is my 1994 VW 1.9D T4🤙🏻 Ford Econolin...\n",
       "6368   VanLife  When camping in a national park, can you reser...\n",
       "6369   VanLife                                            Thanks!\n",
       "6370   VanLife  Considering the van life, should I sell my car...\n",
       "\n",
       "[6371 rows x 2 columns]"
      ]
     },
     "execution_count": 13,
     "metadata": {},
     "output_type": "execute_result"
    }
   ],
   "source": [
    "# Sentence Tokenized DataFrame\n",
    "subs =pd.read_csv('../datasets/tokenized_df')\n",
    "subs"
   ]
  },
  {
   "cell_type": "markdown",
   "metadata": {},
   "source": [
    "<a id='overview'></a>\n",
    "\n",
    "## 2. Quick Overview of Count Vectorizing"
   ]
  },
  {
   "cell_type": "code",
   "execution_count": 14,
   "metadata": {},
   "outputs": [
    {
     "data": {
      "text/html": [
       "<div>\n",
       "<style scoped>\n",
       "    .dataframe tbody tr th:only-of-type {\n",
       "        vertical-align: middle;\n",
       "    }\n",
       "\n",
       "    .dataframe tbody tr th {\n",
       "        vertical-align: top;\n",
       "    }\n",
       "\n",
       "    .dataframe thead th {\n",
       "        text-align: right;\n",
       "    }\n",
       "</style>\n",
       "<table border=\"1\" class=\"dataframe\">\n",
       "  <thead>\n",
       "    <tr style=\"text-align: right;\">\n",
       "      <th></th>\n",
       "      <th>subreddit</th>\n",
       "      <th>title</th>\n",
       "    </tr>\n",
       "  </thead>\n",
       "  <tbody>\n",
       "    <tr>\n",
       "      <th>0</th>\n",
       "      <td>0</td>\n",
       "      <td>First tim camping Camping Tricks: A few of the...</td>\n",
       "    </tr>\n",
       "    <tr>\n",
       "      <th>1</th>\n",
       "      <td>0</td>\n",
       "      <td>Last summer.</td>\n",
       "    </tr>\n",
       "    <tr>\n",
       "      <th>2</th>\n",
       "      <td>0</td>\n",
       "      <td>We were playing war.</td>\n",
       "    </tr>\n",
       "    <tr>\n",
       "      <th>3</th>\n",
       "      <td>0</td>\n",
       "      <td>I caught the moment the cards were read.</td>\n",
       "    </tr>\n",
       "    <tr>\n",
       "      <th>4</th>\n",
       "      <td>0</td>\n",
       "      <td>Joshua Tree National Park back country!</td>\n",
       "    </tr>\n",
       "  </tbody>\n",
       "</table>\n",
       "</div>"
      ],
      "text/plain": [
       "   subreddit                                              title\n",
       "0          0  First tim camping Camping Tricks: A few of the...\n",
       "1          0                                       Last summer.\n",
       "2          0                               We were playing war.\n",
       "3          0           I caught the moment the cards were read.\n",
       "4          0            Joshua Tree National Park back country!"
      ]
     },
     "execution_count": 14,
     "metadata": {},
     "output_type": "execute_result"
    }
   ],
   "source": [
    "# Changing subreddit labels for modeling!\n",
    "\n",
    "my_dict = {\n",
    "    'camping':0,\n",
    "    'VanLife':1\n",
    "}\n",
    "\n",
    "subs['subreddit']= subs['subreddit'].map(my_dict)\n",
    "subs.head()"
   ]
  },
  {
   "cell_type": "code",
   "execution_count": 15,
   "metadata": {},
   "outputs": [],
   "source": [
    "X = subs['title']\n",
    "y = subs['subreddit']\n",
    "\n",
    "# Subreddit is close to normalized, but will stratify on 'y' as a best practice\n",
    "\n",
    "X_train, X_test, y_train, y_test = train_test_split(X,\n",
    "                                                    y,\n",
    "                                                    stratify = y,\n",
    "                                                    random_state=42)"
   ]
  },
  {
   "cell_type": "markdown",
   "metadata": {},
   "source": [
    "### A quick Preview of a CVEC 'densified' DataFrame before running a PipeLine\n",
    "**Starting with CountVectorizer (combines several preprocessing steps in one**"
   ]
  },
  {
   "cell_type": "code",
   "execution_count": 16,
   "metadata": {},
   "outputs": [
    {
     "data": {
      "text/plain": [
       "CountVectorizer(min_df=2, stop_words='english')"
      ]
     },
     "execution_count": 16,
     "metadata": {},
     "output_type": "execute_result"
    }
   ],
   "source": [
    "# maintaining defualts values stopwords=None, to start.\n",
    "# also defaults by stripping punctuation\n",
    "\n",
    "cvec= CountVectorizer(min_df = 2, ngram_range=(1,1), stop_words='english' )\n",
    "# a words much appear more than ONCE to be counted\n",
    "cvec.fit(X_train)"
   ]
  },
  {
   "cell_type": "code",
   "execution_count": 17,
   "metadata": {},
   "outputs": [],
   "source": [
    "# Transform the corpus (data)\n",
    "\n",
    "X_train_cv = cvec.transform(X_train)\n",
    "X_test_cv = cvec.transform(X_test)"
   ]
  },
  {
   "cell_type": "markdown",
   "metadata": {},
   "source": [
    "**'densifying' and building a DataFrame from the sparse matrix**"
   ]
  },
  {
   "cell_type": "code",
   "execution_count": 18,
   "metadata": {},
   "outputs": [
    {
     "data": {
      "text/html": [
       "<div>\n",
       "<style scoped>\n",
       "    .dataframe tbody tr th:only-of-type {\n",
       "        vertical-align: middle;\n",
       "    }\n",
       "\n",
       "    .dataframe tbody tr th {\n",
       "        vertical-align: top;\n",
       "    }\n",
       "\n",
       "    .dataframe thead th {\n",
       "        text-align: right;\n",
       "    }\n",
       "</style>\n",
       "<table border=\"1\" class=\"dataframe\">\n",
       "  <thead>\n",
       "    <tr style=\"text-align: right;\">\n",
       "      <th></th>\n",
       "      <th>0</th>\n",
       "      <th>1</th>\n",
       "      <th>2</th>\n",
       "      <th>3</th>\n",
       "      <th>4</th>\n",
       "      <th>5</th>\n",
       "      <th>6</th>\n",
       "      <th>7</th>\n",
       "      <th>8</th>\n",
       "      <th>9</th>\n",
       "      <th>...</th>\n",
       "      <th>3544</th>\n",
       "      <th>3545</th>\n",
       "      <th>3546</th>\n",
       "      <th>3547</th>\n",
       "      <th>3548</th>\n",
       "      <th>3549</th>\n",
       "      <th>3550</th>\n",
       "      <th>3551</th>\n",
       "      <th>3552</th>\n",
       "      <th>3553</th>\n",
       "    </tr>\n",
       "  </thead>\n",
       "  <tbody>\n",
       "    <tr>\n",
       "      <th>0</th>\n",
       "      <td>0</td>\n",
       "      <td>0</td>\n",
       "      <td>0</td>\n",
       "      <td>0</td>\n",
       "      <td>0</td>\n",
       "      <td>0</td>\n",
       "      <td>0</td>\n",
       "      <td>0</td>\n",
       "      <td>0</td>\n",
       "      <td>0</td>\n",
       "      <td>...</td>\n",
       "      <td>0</td>\n",
       "      <td>0</td>\n",
       "      <td>0</td>\n",
       "      <td>0</td>\n",
       "      <td>0</td>\n",
       "      <td>0</td>\n",
       "      <td>0</td>\n",
       "      <td>0</td>\n",
       "      <td>0</td>\n",
       "      <td>0</td>\n",
       "    </tr>\n",
       "    <tr>\n",
       "      <th>1</th>\n",
       "      <td>0</td>\n",
       "      <td>0</td>\n",
       "      <td>0</td>\n",
       "      <td>0</td>\n",
       "      <td>0</td>\n",
       "      <td>0</td>\n",
       "      <td>0</td>\n",
       "      <td>0</td>\n",
       "      <td>0</td>\n",
       "      <td>0</td>\n",
       "      <td>...</td>\n",
       "      <td>0</td>\n",
       "      <td>0</td>\n",
       "      <td>0</td>\n",
       "      <td>0</td>\n",
       "      <td>0</td>\n",
       "      <td>0</td>\n",
       "      <td>0</td>\n",
       "      <td>0</td>\n",
       "      <td>0</td>\n",
       "      <td>0</td>\n",
       "    </tr>\n",
       "    <tr>\n",
       "      <th>2</th>\n",
       "      <td>0</td>\n",
       "      <td>0</td>\n",
       "      <td>0</td>\n",
       "      <td>0</td>\n",
       "      <td>0</td>\n",
       "      <td>0</td>\n",
       "      <td>0</td>\n",
       "      <td>0</td>\n",
       "      <td>0</td>\n",
       "      <td>0</td>\n",
       "      <td>...</td>\n",
       "      <td>0</td>\n",
       "      <td>0</td>\n",
       "      <td>0</td>\n",
       "      <td>0</td>\n",
       "      <td>0</td>\n",
       "      <td>0</td>\n",
       "      <td>0</td>\n",
       "      <td>0</td>\n",
       "      <td>0</td>\n",
       "      <td>0</td>\n",
       "    </tr>\n",
       "    <tr>\n",
       "      <th>3</th>\n",
       "      <td>0</td>\n",
       "      <td>0</td>\n",
       "      <td>0</td>\n",
       "      <td>0</td>\n",
       "      <td>0</td>\n",
       "      <td>0</td>\n",
       "      <td>0</td>\n",
       "      <td>0</td>\n",
       "      <td>0</td>\n",
       "      <td>0</td>\n",
       "      <td>...</td>\n",
       "      <td>0</td>\n",
       "      <td>0</td>\n",
       "      <td>0</td>\n",
       "      <td>0</td>\n",
       "      <td>0</td>\n",
       "      <td>0</td>\n",
       "      <td>0</td>\n",
       "      <td>0</td>\n",
       "      <td>0</td>\n",
       "      <td>0</td>\n",
       "    </tr>\n",
       "    <tr>\n",
       "      <th>4</th>\n",
       "      <td>0</td>\n",
       "      <td>0</td>\n",
       "      <td>0</td>\n",
       "      <td>0</td>\n",
       "      <td>0</td>\n",
       "      <td>0</td>\n",
       "      <td>0</td>\n",
       "      <td>0</td>\n",
       "      <td>0</td>\n",
       "      <td>0</td>\n",
       "      <td>...</td>\n",
       "      <td>0</td>\n",
       "      <td>0</td>\n",
       "      <td>0</td>\n",
       "      <td>0</td>\n",
       "      <td>0</td>\n",
       "      <td>0</td>\n",
       "      <td>0</td>\n",
       "      <td>0</td>\n",
       "      <td>0</td>\n",
       "      <td>0</td>\n",
       "    </tr>\n",
       "  </tbody>\n",
       "</table>\n",
       "<p>5 rows × 3554 columns</p>\n",
       "</div>"
      ],
      "text/plain": [
       "   0     1     2     3     4     5     6     7     8     9     ...  3544  \\\n",
       "0     0     0     0     0     0     0     0     0     0     0  ...     0   \n",
       "1     0     0     0     0     0     0     0     0     0     0  ...     0   \n",
       "2     0     0     0     0     0     0     0     0     0     0  ...     0   \n",
       "3     0     0     0     0     0     0     0     0     0     0  ...     0   \n",
       "4     0     0     0     0     0     0     0     0     0     0  ...     0   \n",
       "\n",
       "   3545  3546  3547  3548  3549  3550  3551  3552  3553  \n",
       "0     0     0     0     0     0     0     0     0     0  \n",
       "1     0     0     0     0     0     0     0     0     0  \n",
       "2     0     0     0     0     0     0     0     0     0  \n",
       "3     0     0     0     0     0     0     0     0     0  \n",
       "4     0     0     0     0     0     0     0     0     0  \n",
       "\n",
       "[5 rows x 3554 columns]"
      ]
     },
     "execution_count": 18,
     "metadata": {},
     "output_type": "execute_result"
    }
   ],
   "source": [
    "pd.DataFrame(X_train_cv.todense()).head()"
   ]
  },
  {
   "cell_type": "code",
   "execution_count": 19,
   "metadata": {},
   "outputs": [
    {
     "data": {
      "text/html": [
       "<div>\n",
       "<style scoped>\n",
       "    .dataframe tbody tr th:only-of-type {\n",
       "        vertical-align: middle;\n",
       "    }\n",
       "\n",
       "    .dataframe tbody tr th {\n",
       "        vertical-align: top;\n",
       "    }\n",
       "\n",
       "    .dataframe thead th {\n",
       "        text-align: right;\n",
       "    }\n",
       "</style>\n",
       "<table border=\"1\" class=\"dataframe\">\n",
       "  <thead>\n",
       "    <tr style=\"text-align: right;\">\n",
       "      <th></th>\n",
       "      <th>00</th>\n",
       "      <th>000</th>\n",
       "      <th>000km</th>\n",
       "      <th>01</th>\n",
       "      <th>02</th>\n",
       "      <th>03</th>\n",
       "      <th>10</th>\n",
       "      <th>100</th>\n",
       "      <th>1000</th>\n",
       "      <th>1000w</th>\n",
       "      <th>...</th>\n",
       "      <th>zeltausstellung</th>\n",
       "      <th>zero</th>\n",
       "      <th>zion</th>\n",
       "      <th>zip</th>\n",
       "      <th>älvdalen</th>\n",
       "      <th>ペン型300mwレーザーポインター</th>\n",
       "      <th>レーザーポインター</th>\n",
       "      <th>強力</th>\n",
       "      <th>紫光レーザー光線</th>\n",
       "      <th>赤光</th>\n",
       "    </tr>\n",
       "  </thead>\n",
       "  <tbody>\n",
       "    <tr>\n",
       "      <th>0</th>\n",
       "      <td>0</td>\n",
       "      <td>0</td>\n",
       "      <td>0</td>\n",
       "      <td>0</td>\n",
       "      <td>0</td>\n",
       "      <td>0</td>\n",
       "      <td>0</td>\n",
       "      <td>0</td>\n",
       "      <td>0</td>\n",
       "      <td>0</td>\n",
       "      <td>...</td>\n",
       "      <td>0</td>\n",
       "      <td>0</td>\n",
       "      <td>0</td>\n",
       "      <td>0</td>\n",
       "      <td>0</td>\n",
       "      <td>0</td>\n",
       "      <td>0</td>\n",
       "      <td>0</td>\n",
       "      <td>0</td>\n",
       "      <td>0</td>\n",
       "    </tr>\n",
       "    <tr>\n",
       "      <th>1</th>\n",
       "      <td>0</td>\n",
       "      <td>0</td>\n",
       "      <td>0</td>\n",
       "      <td>0</td>\n",
       "      <td>0</td>\n",
       "      <td>0</td>\n",
       "      <td>0</td>\n",
       "      <td>0</td>\n",
       "      <td>0</td>\n",
       "      <td>0</td>\n",
       "      <td>...</td>\n",
       "      <td>0</td>\n",
       "      <td>0</td>\n",
       "      <td>0</td>\n",
       "      <td>0</td>\n",
       "      <td>0</td>\n",
       "      <td>0</td>\n",
       "      <td>0</td>\n",
       "      <td>0</td>\n",
       "      <td>0</td>\n",
       "      <td>0</td>\n",
       "    </tr>\n",
       "    <tr>\n",
       "      <th>2</th>\n",
       "      <td>0</td>\n",
       "      <td>0</td>\n",
       "      <td>0</td>\n",
       "      <td>0</td>\n",
       "      <td>0</td>\n",
       "      <td>0</td>\n",
       "      <td>0</td>\n",
       "      <td>0</td>\n",
       "      <td>0</td>\n",
       "      <td>0</td>\n",
       "      <td>...</td>\n",
       "      <td>0</td>\n",
       "      <td>0</td>\n",
       "      <td>0</td>\n",
       "      <td>0</td>\n",
       "      <td>0</td>\n",
       "      <td>0</td>\n",
       "      <td>0</td>\n",
       "      <td>0</td>\n",
       "      <td>0</td>\n",
       "      <td>0</td>\n",
       "    </tr>\n",
       "    <tr>\n",
       "      <th>3</th>\n",
       "      <td>0</td>\n",
       "      <td>0</td>\n",
       "      <td>0</td>\n",
       "      <td>0</td>\n",
       "      <td>0</td>\n",
       "      <td>0</td>\n",
       "      <td>0</td>\n",
       "      <td>0</td>\n",
       "      <td>0</td>\n",
       "      <td>0</td>\n",
       "      <td>...</td>\n",
       "      <td>0</td>\n",
       "      <td>0</td>\n",
       "      <td>0</td>\n",
       "      <td>0</td>\n",
       "      <td>0</td>\n",
       "      <td>0</td>\n",
       "      <td>0</td>\n",
       "      <td>0</td>\n",
       "      <td>0</td>\n",
       "      <td>0</td>\n",
       "    </tr>\n",
       "    <tr>\n",
       "      <th>4</th>\n",
       "      <td>0</td>\n",
       "      <td>0</td>\n",
       "      <td>0</td>\n",
       "      <td>0</td>\n",
       "      <td>0</td>\n",
       "      <td>0</td>\n",
       "      <td>0</td>\n",
       "      <td>0</td>\n",
       "      <td>0</td>\n",
       "      <td>0</td>\n",
       "      <td>...</td>\n",
       "      <td>0</td>\n",
       "      <td>0</td>\n",
       "      <td>0</td>\n",
       "      <td>0</td>\n",
       "      <td>0</td>\n",
       "      <td>0</td>\n",
       "      <td>0</td>\n",
       "      <td>0</td>\n",
       "      <td>0</td>\n",
       "      <td>0</td>\n",
       "    </tr>\n",
       "  </tbody>\n",
       "</table>\n",
       "<p>5 rows × 3554 columns</p>\n",
       "</div>"
      ],
      "text/plain": [
       "   00  000  000km  01  02  03  10  100  1000  1000w  ...  zeltausstellung  \\\n",
       "0   0    0      0   0   0   0   0    0     0      0  ...                0   \n",
       "1   0    0      0   0   0   0   0    0     0      0  ...                0   \n",
       "2   0    0      0   0   0   0   0    0     0      0  ...                0   \n",
       "3   0    0      0   0   0   0   0    0     0      0  ...                0   \n",
       "4   0    0      0   0   0   0   0    0     0      0  ...                0   \n",
       "\n",
       "   zero  zion  zip  älvdalen  ペン型300mwレーザーポインター  レーザーポインター  強力  紫光レーザー光線  赤光  \n",
       "0     0     0    0         0                  0          0   0         0   0  \n",
       "1     0     0    0         0                  0          0   0         0   0  \n",
       "2     0     0    0         0                  0          0   0         0   0  \n",
       "3     0     0    0         0                  0          0   0         0   0  \n",
       "4     0     0    0         0                  0          0   0         0   0  \n",
       "\n",
       "[5 rows x 3554 columns]"
      ]
     },
     "execution_count": 19,
     "metadata": {},
     "output_type": "execute_result"
    }
   ],
   "source": [
    "# Replacing column names with the words they represent\n",
    "\n",
    "X_train_df = pd.DataFrame(X_train_cv.todense(), columns = cvec.get_feature_names())\n",
    "X_train_df.head()"
   ]
  },
  {
   "cell_type": "markdown",
   "metadata": {},
   "source": [
    "**An interesting result! Considering this is a global forum, I would assume there may be several languages represented within the data. Curious to see how to runs in the model.  May need to conduct additional filtering, TBD**"
   ]
  },
  {
   "cell_type": "code",
   "execution_count": 21,
   "metadata": {},
   "outputs": [
    {
     "data": {
      "image/png": "[encoded data removed]",
      "text/plain": [
       "<Figure size 432x288 with 1 Axes>"
      ]
     },
     "metadata": {
      "needs_background": "light"
     },
     "output_type": "display_data"
    }
   ],
   "source": [
    "# lets investigate whether or not in remove 'stop words'\n",
    "\n",
    "X_train_df = pd.DataFrame(X_train_cv.todense(),columns= cvec.get_feature_names())\n",
    "\n",
    "X_train_df.sum().sort_values(ascending= False).head(15).plot(kind = 'barh')\n",
    "plt.xlabel('Occurance (count)')  \n",
    "plt.title(\"Top 15 Words in Training Data (w/o Stop Words)\")\n",
    "\n",
    "plt.rcParams.update({'font.size': 16})\n",
    "plt.show()"
   ]
  },
  {
   "cell_type": "markdown",
   "metadata": {},
   "source": [
    "#### A reminder of the Baseline score..."
   ]
  },
  {
   "cell_type": "code",
   "execution_count": 22,
   "metadata": {},
   "outputs": [
    {
     "data": {
      "text/plain": [
       "1    0.54701\n",
       "0    0.45299\n",
       "Name: subreddit, dtype: float64"
      ]
     },
     "execution_count": 22,
     "metadata": {},
     "output_type": "execute_result"
    }
   ],
   "source": [
    "y.value_counts(normalize= True)"
   ]
  },
  {
   "cell_type": "markdown",
   "metadata": {},
   "source": [
    "<a id='modeling'></a>\n",
    "\n",
    "## 3. Modeling\n",
    "\n",
    "<a id='prod'></a>\n",
    "## Model #1 (Production Model) - CVEC/BNB\n",
    "\n",
    "**Production model performed 1% better on testing data with the non-sent-tokenized data!**\n"
   ]
  },
  {
   "cell_type": "markdown",
   "metadata": {},
   "source": [
    "**Basline Model Accuracy for non-Tokenized DataFrame:**"
   ]
  },
  {
   "cell_type": "code",
   "execution_count": 23,
   "metadata": {},
   "outputs": [
    {
     "data": {
      "text/plain": [
       "VanLife    0.5\n",
       "camping    0.5\n",
       "Name: subreddit, dtype: float64"
      ]
     },
     "execution_count": 23,
     "metadata": {},
     "output_type": "execute_result"
    }
   ],
   "source": [
    "subs_notoken['subreddit'].value_counts(normalize=True)"
   ]
  },
  {
   "cell_type": "code",
   "execution_count": 24,
   "metadata": {},
   "outputs": [],
   "source": [
    "# Will begin with a pipeline - CVEC transformer with BernoulliNB estimator\n",
    "# Production model performed 1% better on testing data with the non-sent-tokenized data!\n",
    "\n",
    "X = subs_notoken['title']\n",
    "y = subs_notoken['subreddit']\n",
    "\n",
    "# Subreddit is close to normalized, but will stratify on 'y' as a best practice\n",
    "\n",
    "X_train, X_test, y_train, y_test = train_test_split(X,\n",
    "                                                    y,\n",
    "                                                    stratify = y,\n",
    "                                                    random_state=42)\n",
    "\n",
    "\n",
    "pipe= Pipeline([\n",
    "    ('tf', TfidfVectorizer()),\n",
    "    ('bnb', BernoulliNB())])\n",
    "    "
   ]
  },
  {
   "cell_type": "code",
   "execution_count": 25,
   "metadata": {},
   "outputs": [],
   "source": [
    "# GridSearch through out hyperparameters!\n",
    "# setting up parameter dictionary:\n",
    "\n",
    "pipe_params= {'tf__stop_words':['english', None], # to use the 'stop_words' dict, or not!    \n",
    "              'tf__ngram_range':[(1, 2), (2,2)],  # unigrams, and bigrams\n",
    "              'tf__analyzer':['word'],            # defualt value to make 'grams' a 'word'\n",
    "              'tf__min_df':[0, 5, 10]             # ignore words with less document frequency\n",
    "}"
   ]
  },
  {
   "cell_type": "code",
   "execution_count": 26,
   "metadata": {},
   "outputs": [
    {
     "name": "stdout",
     "output_type": "stream",
     "text": [
      "Fitting 8 folds for each of 12 candidates, totalling 96 fits\n"
     ]
    },
    {
     "name": "stderr",
     "output_type": "stream",
     "text": [
      "[Parallel(n_jobs=1)]: Using backend SequentialBackend with 1 concurrent workers.\n",
      "[Parallel(n_jobs=1)]: Done  96 out of  96 | elapsed:    9.8s finished\n"
     ]
    },
    {
     "data": {
      "text/plain": [
       "GridSearchCV(cv=8,\n",
       "             estimator=Pipeline(steps=[('tf', TfidfVectorizer()),\n",
       "                                       ('bnb', BernoulliNB())]),\n",
       "             param_grid={'tf__analyzer': ['word'], 'tf__min_df': [0, 5, 10],\n",
       "                         'tf__ngram_range': [(1, 2), (2, 2)],\n",
       "                         'tf__stop_words': ['english', None]},\n",
       "             verbose=1)"
      ]
     },
     "execution_count": 26,
     "metadata": {},
     "output_type": "execute_result"
    }
   ],
   "source": [
    "# Instatiating GridSearchCV\n",
    "\n",
    "gs= GridSearchCV(pipe,\n",
    "                param_grid=pipe_params,\n",
    "                cv=8,                    # 8 fold cross validation\n",
    "                verbose = 1)\n",
    "gs.fit(X_train, y_train)"
   ]
  },
  {
   "cell_type": "markdown",
   "metadata": {},
   "source": [
    "**Pickling Model For Future Needs, if neccessary**"
   ]
  },
  {
   "cell_type": "code",
   "execution_count": 27,
   "metadata": {},
   "outputs": [],
   "source": [
    "with open('../pickles/prod_model.pkl', mode ='wb') as pickle_out:\n",
    "    pickle.dump(pipe, pickle_out)"
   ]
  },
  {
   "cell_type": "markdown",
   "metadata": {},
   "source": [
    "<a id='analysis'></a>\n",
    "### Production Model Analysis "
   ]
  },
  {
   "cell_type": "code",
   "execution_count": 28,
   "metadata": {},
   "outputs": [
    {
     "data": {
      "text/plain": [
       "{'tf__analyzer': 'word',\n",
       " 'tf__min_df': 0,\n",
       " 'tf__ngram_range': (1, 2),\n",
       " 'tf__stop_words': 'english'}"
      ]
     },
     "execution_count": 28,
     "metadata": {},
     "output_type": "execute_result"
    }
   ],
   "source": [
    "gs.best_params_"
   ]
  },
  {
   "cell_type": "markdown",
   "metadata": {},
   "source": [
    "**The model, surprisingly decided to move forward with min_df= 0.  I was surprised we attained the results we did when including every word, regardless of term frequency.**"
   ]
  },
  {
   "cell_type": "code",
   "execution_count": 29,
   "metadata": {},
   "outputs": [
    {
     "name": "stdout",
     "output_type": "stream",
     "text": [
      "Training Accuracy Score is: 0.9695\n",
      "Testing Accuracy Score is: 0.8755\n"
     ]
    }
   ],
   "source": [
    "# Score on Training and Testing Data\n",
    "\n",
    "print(f'Training Accuracy Score is: {gs.score(X_train, y_train)}')\n",
    "print(f'Testing Accuracy Score is: {gs.score(X_test, y_test)}')"
   ]
  },
  {
   "cell_type": "markdown",
   "metadata": {},
   "source": [
    "**Our model succesfully predicted 87.6% of the classes correctly!  Excellent!**\n",
    "\n",
    "**Pros:**  \n",
    "\n",
    "TFIDF worked very well in this model.  Similar to CountVectorizer (used in several other model iterations, below), TFIDF does a great job developing a count matrix from the text data in our titles.  This made it very straight forward to model.  Then within the TFIDF funcitonality is the IDF transformer.  This brings a 'weight' parameter into the information. The 'inverse document frequency' takes away the 'weight' of words that may occur many many times through all of the corpus and applies more weight to words occuring less frequently.  Once the BernoulliNB classifier was deployed onto the TFIDF transformed data, BNB quickly catergorized the binary features into the appropriate class and produced a great accuracy score.\n",
    "\n",
    "**Downsides:**  \n",
    "\n",
    "The model is pretty overfit!  This model wouldn't necessarily work in other types of analysis, but for this problem statement, we are more interested in the testing accuracy score.  Since this model produced the highest testing accuracy, we are going into production! We could infer that this model would perform well on other subreddit data, but perhaps not on other types of classification information, say weather statistics, or traffic light patterns. \n",
    "\n",
    "**This is just part of the answer.  Accuracy looks great (best of our models).  Let's take a look at the misclassification rate, via the Confusion Matrix!** "
   ]
  },
  {
   "cell_type": "code",
   "execution_count": 30,
   "metadata": {},
   "outputs": [
    {
     "data": {
      "image/png": "[encoded data removed]",
      "text/plain": [
       "<Figure size 432x288 with 2 Axes>"
      ]
     },
     "metadata": {
      "needs_background": "light"
     },
     "output_type": "display_data"
    }
   ],
   "source": [
    "preds = gs.predict(X_test)\n",
    "tn, fp, fn, tp = confusion_matrix(y_test, preds).ravel()\n",
    "plot_confusion_matrix(gs, X_test, y_test, cmap='Blues');\n",
    "\n",
    "plt.rcParams.update({'font.size': 14})\n",
    "plt.title('     Confusion Matrix of the classifier')\n",
    "plt.xlabel('Predicted')\n",
    "plt.ylabel('True')\n",
    "plt.show()"
   ]
  },
  {
   "cell_type": "code",
   "execution_count": 31,
   "metadata": {},
   "outputs": [
    {
     "name": "stdout",
     "output_type": "stream",
     "text": [
      "Misclassification Rate is: 0.1245\n"
     ]
    }
   ],
   "source": [
    "# Misclassification Rate\n",
    "print(f'Misclassification Rate is: {((fp+fn)/ (tp + fp + tn + fn))}')"
   ]
  },
  {
   "cell_type": "markdown",
   "metadata": {},
   "source": [
    "**The model incorrectly predicted 12.4% of the observations**"
   ]
  },
  {
   "cell_type": "code",
   "execution_count": 32,
   "metadata": {},
   "outputs": [
    {
     "data": {
      "text/plain": [
       "(249, 3)"
      ]
     },
     "execution_count": 32,
     "metadata": {},
     "output_type": "execute_result"
    }
   ],
   "source": [
    "# Producing a dataframe with our PREDICTIONS to see which were misclassified!\n",
    "\n",
    "preds = gs.predict(X_test)\n",
    "predictions_dict = {\n",
    "    # original, not cv - will be more readable\n",
    "    'original text': X_test,\n",
    "    # true label\n",
    "    'actual': y_test,\n",
    "    # predicted label\n",
    "    'predictions': preds\n",
    "}\n",
    "# cast to df\n",
    "pd.set_option(\"display.max_colwidth\", None)\n",
    "predictions_df = pd.DataFrame(predictions_dict)\n",
    "predictions_df=predictions_df[predictions_df['actual'] != predictions_df['predictions']]\n",
    "predictions_df.shape"
   ]
  },
  {
   "cell_type": "markdown",
   "metadata": {},
   "source": [
    "### Which Titles Were Misclassified?"
   ]
  },
  {
   "cell_type": "code",
   "execution_count": 33,
   "metadata": {},
   "outputs": [
    {
     "data": {
      "text/html": [
       "<div>\n",
       "<style scoped>\n",
       "    .dataframe tbody tr th:only-of-type {\n",
       "        vertical-align: middle;\n",
       "    }\n",
       "\n",
       "    .dataframe tbody tr th {\n",
       "        vertical-align: top;\n",
       "    }\n",
       "\n",
       "    .dataframe thead th {\n",
       "        text-align: right;\n",
       "    }\n",
       "</style>\n",
       "<table border=\"1\" class=\"dataframe\">\n",
       "  <thead>\n",
       "    <tr style=\"text-align: right;\">\n",
       "      <th></th>\n",
       "      <th>original text</th>\n",
       "      <th>actual</th>\n",
       "      <th>predictions</th>\n",
       "    </tr>\n",
       "  </thead>\n",
       "  <tbody>\n",
       "    <tr>\n",
       "      <th>1540</th>\n",
       "      <td>Can rock guard undercoating spray really reduce condensation?</td>\n",
       "      <td>VanLife</td>\n",
       "      <td>camping</td>\n",
       "    </tr>\n",
       "    <tr>\n",
       "      <th>854</th>\n",
       "      <td>Equipment Recommendations</td>\n",
       "      <td>VanLife</td>\n",
       "      <td>camping</td>\n",
       "    </tr>\n",
       "    <tr>\n",
       "      <th>6938</th>\n",
       "      <td>I couldnt afford a camper so I built my own put of craigslist trailer.</td>\n",
       "      <td>camping</td>\n",
       "      <td>VanLife</td>\n",
       "    </tr>\n",
       "    <tr>\n",
       "      <th>2343</th>\n",
       "      <td>Single parents?</td>\n",
       "      <td>VanLife</td>\n",
       "      <td>camping</td>\n",
       "    </tr>\n",
       "    <tr>\n",
       "      <th>3087</th>\n",
       "      <td>Winnabego Rialta</td>\n",
       "      <td>VanLife</td>\n",
       "      <td>camping</td>\n",
       "    </tr>\n",
       "    <tr>\n",
       "      <th>6881</th>\n",
       "      <td>I can't 👀😂😭</td>\n",
       "      <td>camping</td>\n",
       "      <td>VanLife</td>\n",
       "    </tr>\n",
       "    <tr>\n",
       "      <th>3741</th>\n",
       "      <td>Exploring the eastern sierras in our wagon, Sheela 🙂</td>\n",
       "      <td>VanLife</td>\n",
       "      <td>camping</td>\n",
       "    </tr>\n",
       "    <tr>\n",
       "      <th>2388</th>\n",
       "      <td>Cool smoky evening in Colorado</td>\n",
       "      <td>VanLife</td>\n",
       "      <td>camping</td>\n",
       "    </tr>\n",
       "    <tr>\n",
       "      <th>3878</th>\n",
       "      <td>Before and After. Test run last week, engine work this week, then we are off in the UK until Xmas :) let us know some places to see, things to do, what to know and best overnight sleep options! Wild camping is easy in Scotland, but England and Wales might be more trying?</td>\n",
       "      <td>VanLife</td>\n",
       "      <td>camping</td>\n",
       "    </tr>\n",
       "    <tr>\n",
       "      <th>1440</th>\n",
       "      <td>Road Trip NYC to LA</td>\n",
       "      <td>VanLife</td>\n",
       "      <td>camping</td>\n",
       "    </tr>\n",
       "  </tbody>\n",
       "</table>\n",
       "</div>"
      ],
      "text/plain": [
       "                                                                                                                                                                                                                                                                        original text  \\\n",
       "1540                                                                                                                                                                                                                    Can rock guard undercoating spray really reduce condensation?   \n",
       "854                                                                                                                                                                                                                                                         Equipment Recommendations   \n",
       "6938                                                                                                                                                                                                           I couldnt afford a camper so I built my own put of craigslist trailer.   \n",
       "2343                                                                                                                                                                                                                                                                  Single parents?   \n",
       "3087                                                                                                                                                                                                                                                                 Winnabego Rialta   \n",
       "6881                                                                                                                                                                                                                                                                      I can't 👀😂😭   \n",
       "3741                                                                                                                                                                                                                             Exploring the eastern sierras in our wagon, Sheela 🙂   \n",
       "2388                                                                                                                                                                                                                                                   Cool smoky evening in Colorado   \n",
       "3878  Before and After. Test run last week, engine work this week, then we are off in the UK until Xmas :) let us know some places to see, things to do, what to know and best overnight sleep options! Wild camping is easy in Scotland, but England and Wales might be more trying?   \n",
       "1440                                                                                                                                                                                                                                                              Road Trip NYC to LA   \n",
       "\n",
       "       actual predictions  \n",
       "1540  VanLife     camping  \n",
       "854   VanLife     camping  \n",
       "6938  camping     VanLife  \n",
       "2343  VanLife     camping  \n",
       "3087  VanLife     camping  \n",
       "6881  camping     VanLife  \n",
       "3741  VanLife     camping  \n",
       "2388  VanLife     camping  \n",
       "3878  VanLife     camping  \n",
       "1440  VanLife     camping  "
      ]
     },
     "execution_count": 33,
     "metadata": {},
     "output_type": "execute_result"
    }
   ],
   "source": [
    "predictions_df.head(10)\n",
    "# Hard to tell by reading the titles why they were not classified correctly!"
   ]
  },
  {
   "cell_type": "markdown",
   "metadata": {},
   "source": [
    "Unfortunately, no clear deciding factor could be determined by reviewing our misclassified data. However, r/camping titles were predicted incorrectly 17% more often than Camping titles. These titles ranged form foreign languages, Emoticon-filled sentences, and random, more non-descript titles.  Further analysis may reveal more insights. \n"
   ]
  },
  {
   "cell_type": "code",
   "execution_count": 35,
   "metadata": {},
   "outputs": [
    {
     "data": {
      "text/plain": [
       "camping    0.534137\n",
       "VanLife    0.465863\n",
       "Name: actual, dtype: float64"
      ]
     },
     "execution_count": 35,
     "metadata": {},
     "output_type": "execute_result"
    }
   ],
   "source": [
    "predictions_df['actual'].value_counts(normalize=True)"
   ]
  },
  {
   "cell_type": "markdown",
   "metadata": {},
   "source": [
    "**For this model, with a .50 baseline score, the posts could have gone either way!.  But, seeing a bias towards Camping posts being misclassified was interesting. However, with the word 'camping' appearing more than any other (without stopwords) it makes sense.**"
   ]
  },
  {
   "cell_type": "markdown",
   "metadata": {},
   "source": [
    "### User GUI For Testing Titles!\n",
    "**When the cell is ran, enter your title, and the appropriate subreddit to post in will display below the cell!**"
   ]
  },
  {
   "cell_type": "code",
   "execution_count": 36,
   "metadata": {},
   "outputs": [
    {
     "data": {
      "text/plain": [
       "array(['VanLife'], dtype='<U7')"
      ]
     },
     "execution_count": 36,
     "metadata": {},
     "output_type": "execute_result"
    }
   ],
   "source": [
    "pipe3 = Pipeline([\n",
    "    ('tf', TfidfVectorizer(stop_words='english',ngram_range=(1, 2),analyzer= 'word',min_df=0)),\n",
    "    ('bnb', BernoulliNB())])\n",
    "\n",
    "pipe3.fit(X_train, y_train)\n",
    "\n",
    "\n",
    "\n",
    "import tkinter as tk\n",
    "from tkinter import simpledialog\n",
    "\n",
    "ROOT = tk.Tk()\n",
    "\n",
    "ROOT.withdraw()\n",
    "# the input dialog\n",
    "USER_INP = simpledialog.askstring(title=\"Which SubReddit\",\n",
    "                                  prompt=\"What is your title?:\")\n",
    "\n",
    "\n",
    "# check it out\n",
    "pipe3.predict([USER_INP])\n",
    "\n"
   ]
  },
  {
   "cell_type": "markdown",
   "metadata": {},
   "source": [
    "### Which words were most important to the model?\n",
    "\n",
    "**Based on the inverse document frequency of the word**\n",
    "\n",
    "**Top IDF words were ran through the predicter GIU above to develop the 'predicted class' column**"
   ]
  },
  {
   "cell_type": "code",
   "execution_count": 37,
   "metadata": {},
   "outputs": [
    {
     "data": {
      "text/html": [
       "<div>\n",
       "<style scoped>\n",
       "    .dataframe tbody tr th:only-of-type {\n",
       "        vertical-align: middle;\n",
       "    }\n",
       "\n",
       "    .dataframe tbody tr th {\n",
       "        vertical-align: top;\n",
       "    }\n",
       "\n",
       "    .dataframe thead th {\n",
       "        text-align: right;\n",
       "    }\n",
       "</style>\n",
       "<table border=\"1\" class=\"dataframe\">\n",
       "  <thead>\n",
       "    <tr style=\"text-align: right;\">\n",
       "      <th></th>\n",
       "      <th>words</th>\n",
       "      <th>idf</th>\n",
       "      <th>predicted class</th>\n",
       "    </tr>\n",
       "  </thead>\n",
       "  <tbody>\n",
       "    <tr>\n",
       "      <th>0</th>\n",
       "      <td>die</td>\n",
       "      <td>7.907922</td>\n",
       "      <td>VanLife</td>\n",
       "    </tr>\n",
       "    <tr>\n",
       "      <th>1</th>\n",
       "      <td>spring camping</td>\n",
       "      <td>7.907922</td>\n",
       "      <td>camping</td>\n",
       "    </tr>\n",
       "    <tr>\n",
       "      <th>2</th>\n",
       "      <td>saving</td>\n",
       "      <td>7.907922</td>\n",
       "      <td>VanLife</td>\n",
       "    </tr>\n",
       "    <tr>\n",
       "      <th>3</th>\n",
       "      <td>scary</td>\n",
       "      <td>7.907922</td>\n",
       "      <td>VanLife</td>\n",
       "    </tr>\n",
       "    <tr>\n",
       "      <th>4</th>\n",
       "      <td>searching</td>\n",
       "      <td>7.907922</td>\n",
       "      <td>VanLife</td>\n",
       "    </tr>\n",
       "    <tr>\n",
       "      <th>5</th>\n",
       "      <td>does experience</td>\n",
       "      <td>7.907922</td>\n",
       "      <td>VanLife</td>\n",
       "    </tr>\n",
       "    <tr>\n",
       "      <th>6</th>\n",
       "      <td>secure</td>\n",
       "      <td>7.907922</td>\n",
       "      <td>VanLife</td>\n",
       "    </tr>\n",
       "    <tr>\n",
       "      <th>7</th>\n",
       "      <td>services</td>\n",
       "      <td>7.907922</td>\n",
       "      <td>VanLife</td>\n",
       "    </tr>\n",
       "    <tr>\n",
       "      <th>8</th>\n",
       "      <td>sf</td>\n",
       "      <td>7.907922</td>\n",
       "      <td>VanLife</td>\n",
       "    </tr>\n",
       "    <tr>\n",
       "      <th>9</th>\n",
       "      <td>shed</td>\n",
       "      <td>7.907922</td>\n",
       "      <td>camping</td>\n",
       "    </tr>\n",
       "  </tbody>\n",
       "</table>\n",
       "</div>"
      ],
      "text/plain": [
       "             words       idf predicted class\n",
       "0              die  7.907922         VanLife\n",
       "1   spring camping  7.907922         camping\n",
       "2           saving  7.907922         VanLife\n",
       "3            scary  7.907922         VanLife\n",
       "4        searching  7.907922         VanLife\n",
       "5  does experience  7.907922         VanLife\n",
       "6           secure  7.907922         VanLife\n",
       "7         services  7.907922         VanLife\n",
       "8               sf  7.907922         VanLife\n",
       "9             shed  7.907922         camping"
      ]
     },
     "execution_count": 37,
     "metadata": {},
     "output_type": "execute_result"
    }
   ],
   "source": [
    "list =['VanLife','camping','VanLife','VanLife','VanLife','VanLife','VanLife','VanLife','VanLife','camping']\n",
    "tfidf = TfidfVectorizer(stop_words='english',ngram_range=(1, 2), analyzer ='word', min_df=5)\n",
    " \n",
    "tfidf.fit(X_train)\n",
    "\n",
    "tfidf_dict = {\n",
    "    'words' :tfidf.get_feature_names(),\n",
    "    'idf':tfidf.idf_  \n",
    "}\n",
    "tfidif_dict = pd.DataFrame(tfidf_dict)\n",
    "top_10_idf=tfidif_dict.sort_values(by='idf', ascending = False).head(10)\n",
    "top_10_idf=top_10_idf.reset_index(drop= True)\n",
    "top_10_idf['predicted class']= list\n",
    "top_10_idf"
   ]
  },
  {
   "cell_type": "markdown",
   "metadata": {},
   "source": [
    "**80% of the top ten most 'important' words/phrases as determined by IDF are predicted to be associated with VanLife.  With these statistics, I would have expected the misclassified words to weigh heavier on the VanLife class.**"
   ]
  },
  {
   "cell_type": "markdown",
   "metadata": {},
   "source": [
    "---"
   ]
  },
  {
   "cell_type": "markdown",
   "metadata": {},
   "source": [
    "<a id='2'></a>\n",
    "## Additional Models have limited interpretations, however, some interesting finding are discussed below applicable models\n",
    "\n",
    "## Model #2 - CVEC/RFC\n",
    "\n",
    "#### <span style=\"color:Red\">**Warning!! This Model Takes over an HOUR to run!**</span>     \n",
    "\n",
    "**Model is pickled below incase additional metrics are desired!**"
   ]
  },
  {
   "cell_type": "code",
   "execution_count": 103,
   "metadata": {},
   "outputs": [],
   "source": [
    "# # Will begin with a pipeline - CVEC transformer with Random Forest Classifier\n",
    "\n",
    "# pipe= Pipeline([\n",
    "#     ('cvec', CountVectorizer()),\n",
    "#     ('rf', RandomForestClassifier()) # internally bagging! Bootstrap = True\n",
    "# ])\n"
   ]
  },
  {
   "cell_type": "code",
   "execution_count": 104,
   "metadata": {},
   "outputs": [],
   "source": [
    "# # GridSearch through out hyperparameters!\n",
    "# # setting up parameter dictionary:\n",
    "\n",
    "# pipe_params= {'cvec__stop_words':['english', None],       # with and without stopwords\n",
    "#     'cvec__max_features':[None, 2000, 3000, 4000, 5000],  # number of highest frequency features to use\n",
    "#     'cvec__min_df':[2, 3],                                # ignore words at these low frequencies\n",
    "#     'cvec__ngram_range':[(1, 1), (1, 2)],                 # unigrams and bigrams\n",
    "#     'rf__n_estimators': [100, 200, 250],                  # # of trees in forest\n",
    "#     'rf__max_depth':[None, 1, 2, 3, 4, 5, 10],            # max depth of 'tree'\n",
    "#     'rf__criterion':['gini', 'entropy']                   # quality of split\n",
    "              \n",
    "# }"
   ]
  },
  {
   "cell_type": "code",
   "execution_count": 106,
   "metadata": {},
   "outputs": [],
   "source": [
    "# # Instatiating GridSearchCV\n",
    "\n",
    "# gs= GridSearchCV(pipe,\n",
    "#                 param_grid=pipe_params,\n",
    "#                 cv=5,                    # 5 fold cross validation\n",
    "#                 verbose = 1)\n",
    "# gs.fit(X_train, y_train)"
   ]
  },
  {
   "cell_type": "code",
   "execution_count": 107,
   "metadata": {},
   "outputs": [],
   "source": [
    "# # the model# 2 above took 81 minutes to run!  Pickling it in case I need to come back to it later!\n",
    "\n",
    "# with open('../pickles/model_2.pkl', mode ='wb') as pickle_out:\n",
    "#     pickle.dump(pipe, pickle_out)"
   ]
  },
  {
   "cell_type": "markdown",
   "metadata": {},
   "source": [
    "**Below is the pickle open code if needed!**"
   ]
  },
  {
   "cell_type": "code",
   "execution_count": 108,
   "metadata": {},
   "outputs": [],
   "source": [
    "# with open('../pickles/model_2.pkl', mode= 'rb') as pickle_in:\n",
    "#     pipe = pickle.load(pickle_in)    "
   ]
  },
  {
   "cell_type": "code",
   "execution_count": 109,
   "metadata": {},
   "outputs": [],
   "source": [
    "# # Best paramaters from our GridSearch!\n",
    "# gs.best_params_"
   ]
  },
  {
   "cell_type": "code",
   "execution_count": 110,
   "metadata": {},
   "outputs": [],
   "source": [
    "# print(f'Training Accuracy Score is: {gs.score(X_train, y_train)}')\n",
    "# print(f'Testing Accuracy Score is: {gs.score(X_test, y_test)}')"
   ]
  },
  {
   "cell_type": "markdown",
   "metadata": {},
   "source": [
    "**Training Accuracy Score is: 0.994**\n",
    "**Testing Accuracy Score is: 0.829**"
   ]
  },
  {
   "cell_type": "code",
   "execution_count": 111,
   "metadata": {},
   "outputs": [],
   "source": [
    "# preds = gs.predict(X_test)\n",
    "# tn, fp, fn, tp = confusion_matrix(y_test, preds).ravel()\n",
    "# plot_confusion_matrix(gs, X_test, y_test, cmap='Greens');"
   ]
  },
  {
   "cell_type": "code",
   "execution_count": 112,
   "metadata": {},
   "outputs": [],
   "source": [
    "# # Misclassification Rate\n",
    "# print(f'Misclassification Rate is: {((fp+fn)/ (tp + fp + tn + fn))}')"
   ]
  },
  {
   "cell_type": "markdown",
   "metadata": {},
   "source": [
    "**The model incorrectly predicted 17.1% of the observations**"
   ]
  },
  {
   "cell_type": "markdown",
   "metadata": {},
   "source": [
    "**Model appears to be very overfit.  Excellent accuracy on training data. Testing data is far off though.  Need to bring in more bias and/or limit features for next model.**"
   ]
  },
  {
   "cell_type": "markdown",
   "metadata": {},
   "source": [
    "---"
   ]
  },
  {
   "cell_type": "markdown",
   "metadata": {},
   "source": [
    "<a id='3'></a>\n",
    "## Model #3 - TFID/LogReg"
   ]
  },
  {
   "cell_type": "code",
   "execution_count": 93,
   "metadata": {},
   "outputs": [],
   "source": [
    "# WIll be Piplining TfidfVectorizer with Logistic Regression CV estimator\n",
    "# But first some EDA\n",
    "\n",
    "X = subs['title']\n",
    "y = subs['subreddit']\n",
    "\n",
    "# Subreddit is close to normalized, but will stratify on 'y' as a best practice\n",
    "\n",
    "X_train, X_test, y_train, y_test = train_test_split(X,\n",
    "                                                    y,\n",
    "                                                    stratify = y,\n",
    "                                                    random_state=42)"
   ]
  },
  {
   "cell_type": "code",
   "execution_count": 94,
   "metadata": {},
   "outputs": [
    {
     "data": {
      "text/html": [
       "<div>\n",
       "<style scoped>\n",
       "    .dataframe tbody tr th:only-of-type {\n",
       "        vertical-align: middle;\n",
       "    }\n",
       "\n",
       "    .dataframe tbody tr th {\n",
       "        vertical-align: top;\n",
       "    }\n",
       "\n",
       "    .dataframe thead th {\n",
       "        text-align: right;\n",
       "    }\n",
       "</style>\n",
       "<table border=\"1\" class=\"dataframe\">\n",
       "  <thead>\n",
       "    <tr style=\"text-align: right;\">\n",
       "      <th></th>\n",
       "      <th>words</th>\n",
       "      <th>idf</th>\n",
       "    </tr>\n",
       "  </thead>\n",
       "  <tbody>\n",
       "    <tr>\n",
       "      <th>3781</th>\n",
       "      <td>赤光</td>\n",
       "      <td>8.373374</td>\n",
       "    </tr>\n",
       "    <tr>\n",
       "      <th>2413</th>\n",
       "      <td>pants</td>\n",
       "      <td>8.373374</td>\n",
       "    </tr>\n",
       "    <tr>\n",
       "      <th>1007</th>\n",
       "      <td>dm</td>\n",
       "      <td>8.373374</td>\n",
       "    </tr>\n",
       "    <tr>\n",
       "      <th>1005</th>\n",
       "      <td>diving</td>\n",
       "      <td>8.373374</td>\n",
       "    </tr>\n",
       "    <tr>\n",
       "      <th>1003</th>\n",
       "      <td>distancing</td>\n",
       "      <td>8.373374</td>\n",
       "    </tr>\n",
       "    <tr>\n",
       "      <th>2406</th>\n",
       "      <td>palo</td>\n",
       "      <td>8.373374</td>\n",
       "    </tr>\n",
       "    <tr>\n",
       "      <th>1000</th>\n",
       "      <td>disperse</td>\n",
       "      <td>8.373374</td>\n",
       "    </tr>\n",
       "    <tr>\n",
       "      <th>2411</th>\n",
       "      <td>paneling</td>\n",
       "      <td>8.373374</td>\n",
       "    </tr>\n",
       "    <tr>\n",
       "      <th>997</th>\n",
       "      <td>disney</td>\n",
       "      <td>8.373374</td>\n",
       "    </tr>\n",
       "    <tr>\n",
       "      <th>996</th>\n",
       "      <td>dish</td>\n",
       "      <td>8.373374</td>\n",
       "    </tr>\n",
       "  </tbody>\n",
       "</table>\n",
       "</div>"
      ],
      "text/plain": [
       "           words       idf\n",
       "3781          赤光  8.373374\n",
       "2413       pants  8.373374\n",
       "1007          dm  8.373374\n",
       "1005      diving  8.373374\n",
       "1003  distancing  8.373374\n",
       "2406        palo  8.373374\n",
       "1000    disperse  8.373374\n",
       "2411    paneling  8.373374\n",
       "997       disney  8.373374\n",
       "996         dish  8.373374"
      ]
     },
     "execution_count": 94,
     "metadata": {},
     "output_type": "execute_result"
    }
   ],
   "source": [
    "# which words are most important to the model?\n",
    "tfidf = TfidfVectorizer(min_df=2)   # word much appear in two different docs to count\n",
    "tfidf.fit(X_train)\n",
    "\n",
    "tfidf_dict = {\n",
    "    'words' :tfidf.get_feature_names(),\n",
    "    'idf':tfidf.idf_\n",
    "}\n",
    "tfidif_dict = pd.DataFrame(tfidf_dict)\n",
    "tfidif_dict.sort_values(by='idf', ascending = False).head(10)\n"
   ]
  },
  {
   "cell_type": "markdown",
   "metadata": {},
   "source": [
    "**Tfidf deams 赤光 (akimitsu- manderin for 'bright', 'light' the most important word in the corpus!.  'Paola' is also a latin word by origin.  Interesting how the model pulled these words out**"
   ]
  },
  {
   "cell_type": "code",
   "execution_count": 95,
   "metadata": {},
   "outputs": [
    {
     "data": {
      "text/html": [
       "<div>\n",
       "<style scoped>\n",
       "    .dataframe tbody tr th:only-of-type {\n",
       "        vertical-align: middle;\n",
       "    }\n",
       "\n",
       "    .dataframe tbody tr th {\n",
       "        vertical-align: top;\n",
       "    }\n",
       "\n",
       "    .dataframe thead th {\n",
       "        text-align: right;\n",
       "    }\n",
       "</style>\n",
       "<table border=\"1\" class=\"dataframe\">\n",
       "  <thead>\n",
       "    <tr style=\"text-align: right;\">\n",
       "      <th></th>\n",
       "      <th>赤光</th>\n",
       "    </tr>\n",
       "    <tr>\n",
       "      <th>subreddit</th>\n",
       "      <th></th>\n",
       "    </tr>\n",
       "  </thead>\n",
       "  <tbody>\n",
       "    <tr>\n",
       "      <th>0</th>\n",
       "      <td>2</td>\n",
       "    </tr>\n",
       "    <tr>\n",
       "      <th>1</th>\n",
       "      <td>0</td>\n",
       "    </tr>\n",
       "  </tbody>\n",
       "</table>\n",
       "</div>"
      ],
      "text/plain": [
       "           赤光\n",
       "subreddit    \n",
       "0           2\n",
       "1           0"
      ]
     },
     "execution_count": 95,
     "metadata": {},
     "output_type": "execute_result"
    }
   ],
   "source": [
    "X_train_df[['赤光', 'subreddit']].groupby('subreddit').sum()\n",
    "\n",
    "# this word appears only twice in 'camping' subreddit!"
   ]
  },
  {
   "cell_type": "code",
   "execution_count": 98,
   "metadata": {},
   "outputs": [
    {
     "name": "stdout",
     "output_type": "stream",
     "text": [
      "Training Accuracy Score is: 0.9223524487233152\n",
      "Testing Accuracy Score is: 0.8411801632140615\n"
     ]
    }
   ],
   "source": [
    "# Pipline for tfidf and logistic regression CV\n",
    "\n",
    "pipe2 = Pipeline([\n",
    "    ('tf', TfidfVectorizer(stop_words='english',ngram_range=(1, 2), analyzer ='word', min_df=5)),\n",
    "    ('lr', LogisticRegressionCV(solver = 'liblinear', penalty='l2', cv=5, random_state = 42))\n",
    "])\n",
    "\n",
    "pipe2.fit(X_train, y_train)\n",
    "\n",
    "print(f'Training Accuracy Score is: {pipe2.score(X_train, y_train)}')\n",
    "print(f'Testing Accuracy Score is: {pipe2.score(X_test, y_test)}')"
   ]
  },
  {
   "cell_type": "markdown",
   "metadata": {},
   "source": [
    "**Model appears to be overfit.  Excellent accuracy on training data. Testing data is far off though.  Need to bring in more bias and/or limit features for next model.**\n",
    "\n",
    "**Overall, testing accuracy is close to our production model!**"
   ]
  },
  {
   "cell_type": "code",
   "execution_count": 102,
   "metadata": {},
   "outputs": [
    {
     "data": {
      "text/plain": [
       "array([1], dtype=int64)"
      ]
     },
     "execution_count": 102,
     "metadata": {},
     "output_type": "execute_result"
    }
   ],
   "source": [
    "# Running a Prediction\n",
    "pipe2.predict(['Look at my van!'])"
   ]
  },
  {
   "cell_type": "markdown",
   "metadata": {},
   "source": [
    "---"
   ]
  },
  {
   "cell_type": "markdown",
   "metadata": {},
   "source": [
    "<a id='4'></a>\n",
    "## Model #4- CVEC/DTC"
   ]
  },
  {
   "cell_type": "code",
   "execution_count": 38,
   "metadata": {},
   "outputs": [],
   "source": [
    "# Will be Piplining CountVectorizor transformer with DecisionTreeClassifier estimator\n",
    "\n",
    "X = subs['title']\n",
    "y = subs['subreddit']\n",
    "\n",
    "# Subreddit is close to normalized, but will stratify on 'y' as a best practice\n",
    "\n",
    "X_train, X_test, y_train, y_test = train_test_split(X,\n",
    "                                                    y,\n",
    "                                                    stratify = y,\n",
    "                                                    random_state=42)"
   ]
  },
  {
   "cell_type": "code",
   "execution_count": 63,
   "metadata": {},
   "outputs": [
    {
     "name": "stdout",
     "output_type": "stream",
     "text": [
      "Training Accuracy Score is: 0.8110627719080175\n",
      "Testing Accuracy Score is: 0.7956521739130434\n"
     ]
    }
   ],
   "source": [
    "pipe3 = Pipeline([\n",
    "    ('cv', CountVectorizer(min_df=2, stop_words='english')),\n",
    "    ('dtc', DecisionTreeClassifier(max_depth =40, random_state = 42, min_samples_leaf= 3))\n",
    "])\n",
    "pipe3.fit(X_train, y_train)\n",
    "\n",
    "print(f'Training Accuracy Score is: {pipe3.score(X_train, y_train)}')\n",
    "print(f'Testing Accuracy Score is: {pipe3.score(X_test, y_test)}')"
   ]
  },
  {
   "cell_type": "markdown",
   "metadata": {},
   "source": [
    "**Model 4 does not perform as well as the others. Will continue on to work with better performers.**"
   ]
  },
  {
   "cell_type": "markdown",
   "metadata": {},
   "source": [
    "<a id='5'></a>\n",
    "## Model #5 - CVEC/ ADA Boost"
   ]
  },
  {
   "cell_type": "code",
   "execution_count": 92,
   "metadata": {},
   "outputs": [],
   "source": [
    "# Will begin with a pipeline - CVEC transformer with AdaBoost Classifier\n",
    "# AdaBoost performed better than XGBoost!\n",
    "# Utilizing tokenized dataset yielded better results!\n",
    "X = subs['title']\n",
    "y = subs['subreddit']\n",
    "\n",
    "# Subreddit is close to normalized, but will stratify on 'y' as a best practice\n",
    "\n",
    "X_train, X_test, y_train, y_test = train_test_split(X,\n",
    "                                                    y,\n",
    "                                                    stratify = y,\n",
    "                                                    random_state=42)\n",
    "\n",
    "pipe4= Pipeline([\n",
    "    ('cvec', CountVectorizer()),\n",
    "    ('abc', AdaBoostClassifier(random_state=42))\n",
    "])\n"
   ]
  },
  {
   "cell_type": "code",
   "execution_count": 74,
   "metadata": {},
   "outputs": [],
   "source": [
    "# GridSearch through our hyperparameters!\n",
    "# setting up parameter dictionary:\n",
    "\n",
    "pipe4_params= {'cvec__stop_words':['english', None],    # with and without stopwords\n",
    "    'cvec__max_features':[None, 2000, 3000],           # number of highest frequency features to use\n",
    "    'cvec__min_df':[2, 3],                             # ignore words at these low frequencies\n",
    "    'cvec__ngram_range':[(1, 1), (1, 2)],              # unigrams and bigrams                      \n",
    "}"
   ]
  },
  {
   "cell_type": "code",
   "execution_count": 75,
   "metadata": {},
   "outputs": [
    {
     "name": "stdout",
     "output_type": "stream",
     "text": [
      "Fitting 5 folds for each of 24 candidates, totalling 120 fits\n"
     ]
    },
    {
     "name": "stderr",
     "output_type": "stream",
     "text": [
      "[Parallel(n_jobs=1)]: Using backend SequentialBackend with 1 concurrent workers.\n",
      "[Parallel(n_jobs=1)]: Done 120 out of 120 | elapsed:   24.9s finished\n"
     ]
    },
    {
     "data": {
      "text/plain": [
       "GridSearchCV(cv=5,\n",
       "             estimator=Pipeline(steps=[('cvec', CountVectorizer()),\n",
       "                                       ('abc',\n",
       "                                        AdaBoostClassifier(random_state=42))]),\n",
       "             param_grid={'cvec__max_features': [None, 2000, 3000],\n",
       "                         'cvec__min_df': [2, 3],\n",
       "                         'cvec__ngram_range': [(1, 1), (1, 2)],\n",
       "                         'cvec__stop_words': ['english', None]},\n",
       "             verbose=1)"
      ]
     },
     "execution_count": 75,
     "metadata": {},
     "output_type": "execute_result"
    }
   ],
   "source": [
    "# Instatiating GridSearchCV\n",
    "\n",
    "gs2= GridSearchCV(pipe4,\n",
    "                param_grid=pipe4_params,\n",
    "                cv=5,                    # 5 fold cross validation\n",
    "                verbose = 1)\n",
    "gs2.fit(X_train, y_train)"
   ]
  },
  {
   "cell_type": "code",
   "execution_count": 76,
   "metadata": {},
   "outputs": [
    {
     "data": {
      "text/plain": [
       "{'cvec__max_features': None,\n",
       " 'cvec__min_df': 2,\n",
       " 'cvec__ngram_range': (1, 1),\n",
       " 'cvec__stop_words': 'english'}"
      ]
     },
     "execution_count": 76,
     "metadata": {},
     "output_type": "execute_result"
    }
   ],
   "source": [
    "gs2.best_params_"
   ]
  },
  {
   "cell_type": "code",
   "execution_count": 77,
   "metadata": {},
   "outputs": [
    {
     "name": "stdout",
     "output_type": "stream",
     "text": [
      "Training Accuracy Score is: 0.7992884051904563\n",
      "Testing Accuracy Score is: 0.7928436911487758\n"
     ]
    }
   ],
   "source": [
    "print(f'Training Accuracy Score is: {gs2.score(X_train, y_train)}')\n",
    "print(f'Testing Accuracy Score is: {gs2.score(X_test, y_test)}')"
   ]
  },
  {
   "cell_type": "markdown",
   "metadata": {},
   "source": [
    "**Model #5 did NOT perform very well.  Will move on to other models**"
   ]
  },
  {
   "cell_type": "markdown",
   "metadata": {},
   "source": [
    "<a id='6'></a>\n",
    "## Model #6 - CVEC/SVC"
   ]
  },
  {
   "cell_type": "code",
   "execution_count": 84,
   "metadata": {},
   "outputs": [],
   "source": [
    "# Will begin with a pipeline - CVEC transformer with LinearSVC estimator\n",
    "# Utilizing non-tokenized dataset yielded better results!\n",
    "X = subs_notoken['title']\n",
    "y = subs_notoken['subreddit']\n",
    "\n",
    "# Subreddit is close to normalized, but will stratify on 'y' as a best practice\n",
    "\n",
    "X_train, X_test, y_train, y_test = train_test_split(X,\n",
    "                                                    y,\n",
    "                                                    stratify = y,\n",
    "                                                    random_state=42)\n",
    "\n",
    "pipe5= Pipeline([\n",
    "    ('cvec', CountVectorizer()),\n",
    "    ('svc', LinearSVC(random_state= 42, max_iter=5000, C=0.07 ))\n",
    "])"
   ]
  },
  {
   "cell_type": "code",
   "execution_count": 85,
   "metadata": {},
   "outputs": [],
   "source": [
    "# GridSearch through out hyperparameters!\n",
    "# setting up parameter dictionary:\n",
    "\n",
    "pipe_params= {'cvec__stop_words':['english', None],\n",
    "    'cvec__max_features':[None, 2000, 3000, 4000],\n",
    "    'cvec__min_df':[2, 3],\n",
    "    'cvec__ngram_range':[(1, 1), (1, 2)],\n",
    "    }"
   ]
  },
  {
   "cell_type": "code",
   "execution_count": 86,
   "metadata": {},
   "outputs": [],
   "source": [
    "# Instatiating GridSearchCV\n",
    "\n",
    "gs= GridSearchCV(pipe5,\n",
    "                param_grid=pipe_params,\n",
    "                cv=5)"
   ]
  },
  {
   "cell_type": "code",
   "execution_count": 87,
   "metadata": {},
   "outputs": [
    {
     "data": {
      "text/plain": [
       "GridSearchCV(cv=5,\n",
       "             estimator=Pipeline(steps=[('cvec', CountVectorizer()),\n",
       "                                       ('svc',\n",
       "                                        LinearSVC(C=0.07, max_iter=5000,\n",
       "                                                  random_state=42))]),\n",
       "             param_grid={'cvec__max_features': [None, 2000, 3000, 4000],\n",
       "                         'cvec__min_df': [2, 3],\n",
       "                         'cvec__ngram_range': [(1, 1), (1, 2)],\n",
       "                         'cvec__stop_words': ['english', None]})"
      ]
     },
     "execution_count": 87,
     "metadata": {},
     "output_type": "execute_result"
    }
   ],
   "source": [
    "# Fitting GS to training data\n",
    "gs.fit(X_train, y_train)"
   ]
  },
  {
   "cell_type": "code",
   "execution_count": 88,
   "metadata": {},
   "outputs": [
    {
     "data": {
      "text/plain": [
       "{'cvec__max_features': None,\n",
       " 'cvec__min_df': 2,\n",
       " 'cvec__ngram_range': (1, 1),\n",
       " 'cvec__stop_words': 'english'}"
      ]
     },
     "execution_count": 88,
     "metadata": {},
     "output_type": "execute_result"
    }
   ],
   "source": [
    "# Best paramaters from our GridSearch!\n",
    "gs.best_params_"
   ]
  },
  {
   "cell_type": "code",
   "execution_count": 89,
   "metadata": {},
   "outputs": [
    {
     "name": "stdout",
     "output_type": "stream",
     "text": [
      "Training Accuracy Score is: 0.9453333333333334\n",
      "Testing Accuracy Score is: 0.8565\n"
     ]
    }
   ],
   "source": [
    "# Score on Training and Testing Data\n",
    "\n",
    "print(f'Training Accuracy Score is: {gs.score(X_train, y_train)}')\n",
    "print(f'Testing Accuracy Score is: {gs.score(X_test, y_test)}')"
   ]
  },
  {
   "cell_type": "markdown",
   "metadata": {},
   "source": [
    "**This is just part of the answer.  Accuracy looks decent at 85.7%, And, VERY CLOSE to our production model. However, our Production model outperforms by a bit, AND runs much faster.**\n",
    "\n",
    "**Let's still take a look at the misclassification rate, via the Confusion Matrix!** "
   ]
  },
  {
   "cell_type": "code",
   "execution_count": 90,
   "metadata": {},
   "outputs": [
    {
     "data": {
      "image/png": "[encoded data removed]",
      "text/plain": [
       "<Figure size 432x288 with 2 Axes>"
      ]
     },
     "metadata": {
      "needs_background": "light"
     },
     "output_type": "display_data"
    }
   ],
   "source": [
    "preds = gs.predict(X_test)\n",
    "tn, fp, fn, tp =confusion_matrix(y_test, preds).ravel()\n",
    "plot_confusion_matrix(gs, X_test, y_test, cmap='Greens');"
   ]
  },
  {
   "cell_type": "code",
   "execution_count": 91,
   "metadata": {},
   "outputs": [
    {
     "name": "stdout",
     "output_type": "stream",
     "text": [
      "Misclassification Rate is: 0.1435\n"
     ]
    }
   ],
   "source": [
    "# Misclassification Rate\n",
    "print(f'Misclassification Rate is: {((fp+fn)/ (tp + fp + tn + fn))}')"
   ]
  },
  {
   "cell_type": "markdown",
   "metadata": {},
   "source": [
    "**The model incorrectly predicted 14.4% of the observations**\n",
    "\n",
    "---"
   ]
  }
 ],
 "metadata": {
  "kernelspec": {
   "display_name": "Python 3",
   "language": "python",
   "name": "python3"
  },
  "language_info": {
   "codemirror_mode": {
    "name": "ipython",
    "version": 3
   },
   "file_extension": ".py",
   "mimetype": "text/x-python",
   "name": "python",
   "nbconvert_exporter": "python",
   "pygments_lexer": "ipython3",
   "version": "3.8.5"
  }
 },
 "nbformat": 4,
 "nbformat_minor": 4
}
